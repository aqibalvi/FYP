{
 "cells": [
  {
   "cell_type": "code",
   "execution_count": 1,
   "metadata": {},
   "outputs": [
    {
     "name": "stderr",
     "output_type": "stream",
     "text": [
      "C:\\Users\\Zurix\\AppData\\Roaming\\Python\\Python36\\site-packages\\scipy\\__init__.py:144: UserWarning: Numpy 1.13.3 or above is required for this version of scipy (detected version 1.13.1)\n",
      "  UserWarning)\n"
     ]
    }
   ],
   "source": [
    "import pandas as pd\n",
    "%matplotlib inline\n",
    "import pandas as pd\n",
    "import numpy as np\n",
    "import re\n",
    "import math\n",
    "import random\n",
    "from sklearn.feature_extraction.text import TfidfVectorizer, CountVectorizer\n",
    "from sklearn.metrics.pairwise import linear_kernel, cosine_similarity\n",
    "from sklearn.neighbors import NearestNeighbors\n",
    "from scipy.sparse import csr_matrix\n",
    "\n",
    "from nltk.stem import WordNetLemmatizer\n",
    "from nltk.stem.porter import *\n",
    "\n",
    "import warnings; warnings.simplefilter('ignore')\n",
    "from collections import Counter\n",
    "from scipy.sparse.linalg import svds\n",
    "\n"
   ]
  },
  {
   "cell_type": "markdown",
   "metadata": {},
   "source": [
    "## RECOMMENDATION SYSTEM\n",
    "###### HELPING FUNCTIONS"
   ]
  },
  {
   "cell_type": "code",
   "execution_count": 2,
   "metadata": {
    "collapsed": true
   },
   "outputs": [],
   "source": [
    "\n",
    "\n",
    "stemmer = PorterStemmer()\n",
    "\n",
    "def lemmatize_stemming(text):\n",
    "    return stemmer.stem(WordNetLemmatizer().lemmatize(text, pos='v'))\n",
    "\n",
    "def clean_(sen):\n",
    "    \n",
    "    sen = re.sub(r'[^a-zA-Z\\.\\:\\@0-9_ ]+', '', sen) \n",
    "    sen = sen.lower()\n",
    "    sen = sen.split()\n",
    "#     sen = [lemmatize_stemming(x) for x in sen]\n",
    "    sen = ' '.join(sen)\n",
    "    \n",
    "    return sen\n",
    "\n",
    "def convertToNumber (s):\n",
    "    return int.from_bytes(s.encode(), 'little')\n",
    "\n",
    "def convertFromNumber (n):\n",
    "    return n.to_bytes(math.ceil(n.bit_length() / 8), 'little').decode()\n",
    "\n",
    "\n",
    "def get_events(metadata):\n",
    "#     metadata = pd.read_excel(path)\n",
    "    metadata['Type']=[ x.lower() for x in metadata['Type']]\n",
    "        \n",
    "    eventname= metadata['Event name'].fillna('')\n",
    "    description = (metadata['Event time'] + metadata['Venue']+metadata['Description']+metadata['Source']+metadata['Type']+metadata['City']).fillna('')\n",
    "    description_clean= list(description)\n",
    "\n",
    "    i=0\n",
    "    while(i< len(description)):\n",
    "        description_clean[i]= clean_(description[i])\n",
    "        i+=1\n",
    "    \n",
    "    #improve Description\n",
    "    metadata['Description']=description_clean\n",
    "    return metadata\n",
    "\n",
    "\n",
    "# n=6\n",
    "input_user_id=414\n",
    "def get_similar_users(input_user_id,df_rating,df_events,n= 6):\n",
    "    new_ratings = pd.merge(df_rating,df_events[['Event name','eventId']],left_on='eventId',right_on='eventId')\n",
    "#     new_ratings = pd.merge(df_events[['Event name','eventId']],df_rating,left_on='eventId',right_on='eventId')\n",
    "\n",
    "    #zero means that user has never voted for this item.\n",
    "    rating_matrix = new_ratings.pivot(index='userId',columns='eventId',values='rating').fillna(0)\n",
    "    \n",
    "#     print(rating_matrix)\n",
    "    knn = NearestNeighbors(metric='cosine',algorithm='brute')\n",
    "    knn.fit((rating_matrix.to_numpy()))\n",
    "\n",
    "    userid = input_user_id\n",
    "\n",
    "    similar_user =[]\n",
    "\n",
    "    # (excluded itself)\n",
    "    value = rating_matrix.loc[ userid,:].values\n",
    "    value = value.reshape(1,-1)\n",
    "    print(rating_matrix.shape,'=====',np.shape(value))\n",
    "    distances, indices = knn.kneighbors(value,n_neighbors=n) \n",
    "    distances=distances.flatten()\n",
    "    indices=indices.flatten()\n",
    "\n",
    "    print(\"Five Nearest Neighbors of user{0}:\".format(userid))\n",
    "\n",
    "    for i in range(1,len(distances)):\n",
    "        similar_user.append(rating_matrix.index[indices[i]])\n",
    "    print('about to return! ',similar_user)\n",
    "    return similar_user\n",
    "\n"
   ]
  },
  {
   "cell_type": "markdown",
   "metadata": {},
   "source": [
    "## APPLICATION DATA\n",
    "\n",
    "###### INPUT FOR THE APPLICATION!\n",
    "\n",
    "###### MUST COME FROM FIREBASE"
   ]
  },
  {
   "cell_type": "code",
   "execution_count": 3,
   "metadata": {
    "collapsed": true
   },
   "outputs": [],
   "source": [
    "\n",
    "def get_prep_data(input_user_id):\n",
    "    data=pd.read_excel('activities.xls')\n",
    "\n",
    "    df_users = pd.DataFrame(columns= ['userId','userName'])\n",
    "    # df_events = get_events(\"activities.xls\")\n",
    "    df_events=get_events(data)\n",
    "\n",
    "    m = pd.read_csv('movies/movies.csv')\n",
    "\n",
    "    df_events['eventId'] = m['movieId']\n",
    "\n",
    "    # df_old_events=df_events.iloc[0:int(df_events.shape[0]*0.8),:]\n",
    "    # df_new_events=df_events.iloc[int(df_events.shape[0]*0.8):,:]\n",
    "\n",
    "    df_rating = pd.read_csv(\"movies/ratings.csv\")\n",
    "    df_rating.rename(columns={'movieId':'eventId'},inplace= True)\n",
    "\n",
    "    userRated=df_rating.loc[df_rating['userId']==input_user_id]\n",
    "\n",
    "    df_old_events=df_events.loc[df_events['eventId'].isin(list(userRated['eventId']))] #Contains user input\n",
    "    df_new_events=df_events.loc[~df_events['eventId'].isin(list(userRated['eventId']))] #Does Not contain user input\n",
    "    return data,df_events,df_rating,df_old_events,df_new_events\n"
   ]
  },
  {
   "cell_type": "code",
   "execution_count": 4,
   "metadata": {
    "collapsed": true
   },
   "outputs": [],
   "source": [
    "# def get_frequency(df,to_check,col_name,no):\n",
    "#     if int(df.shape[0]>0):\n",
    "#         n=no\n",
    "#         #count\n",
    "#         tmp_count = Counter(list(df[to_check]))\n",
    "#         tmp = pd.DataFrame.from_dict(tmp_count, orient='index')\n",
    "\n",
    "#         #sort\n",
    "#         tmp=tmp.sort_values(0,ascending=False)\n",
    "\n",
    "#         #remove index\n",
    "#         tmp.reset_index(level=0, inplace=True)\n",
    "\n",
    "#         #rename\n",
    "#         tmp=tmp.rename(columns={\"index\":col_name,0:\"Frequency\"})\n",
    "\n",
    "#         #get Top N----\n",
    "#         tmp=tmp.loc[0:n]\n",
    "\n",
    "#         #Perc-Freq\n",
    "#         sumed=sum(tmp[\"Frequency\"])\n",
    "#         tmp[\"Percentage of total\"]=(tmp[\"Frequency\"]/sumed)*100\n",
    "#         return tmp\n",
    "#     else:\n",
    "#         print(\"DataFrame is empty\")\n",
    "        \n",
    "# get_frequency(df_rating,'userId','userId',10)"
   ]
  },
  {
   "cell_type": "code",
   "execution_count": 5,
   "metadata": {
    "collapsed": true,
    "scrolled": true
   },
   "outputs": [],
   "source": [
    "# df_new_events=df_new_events.loc[df_new_events['eventId'].isin(list(df_new_events['eventId'].unique())[:100])]\n",
    "# df_new_events"
   ]
  },
  {
   "cell_type": "markdown",
   "metadata": {},
   "source": [
    "###### EXTRA FUNCTIONS"
   ]
  },
  {
   "cell_type": "code",
   "execution_count": 6,
   "metadata": {
    "collapsed": true
   },
   "outputs": [],
   "source": [
    "def first_element(x):\n",
    "    return x[1]\n",
    "\n",
    "def get_recommendations_pop(metadata,title,mapping): #popularity based context\n",
    "    \n",
    "    index = (mapping[title])\n",
    "    simi = list((cosine_similarity[index]))\n",
    "    indexes = list(range(len(simi)))\n",
    "    simi= list(zip(indexes,simi))\n",
    "    simi = sorted(simi, key=first_ele, reverse=True)\n",
    "    \n",
    "    \n",
    "    simi = simi[1:60]\n",
    "    \n",
    "    #calculate vote_count and avergare before doing this\n",
    "    recommendations = metadata.iloc[[i[0] for i in simi]][['title', 'vote_count', 'vote_average']]\n",
    "    \n",
    "    items = metadata.iloc[[i[0] for i in simi]]\n",
    "    \n",
    "    vote_counts = items[items['vote_count'].notnull()]['vote_count'].astype('int')\n",
    "    vote_averages = items[items['vote_average'].notnull()]['vote_average'].astype('float')\n",
    "    \n",
    "    C = vote_averages.mean()\n",
    "    m = vote_counts.quantile(0.60)\n",
    "    \n",
    "    \n",
    "    recommendations = items[(items['vote_count'].notnull()) & (items['vote_average'].notnull()) & (items['vote_count'] >= m)]\n",
    "    \n",
    "    recommendations['vote_count'] = recommendations['vote_count'].astype('int')\n",
    "    recommendations['vote_average'] = recommendations['vote_average'].astype('float')\n",
    "    \n",
    "    recommendations['weighted_rating'] = recommendations.apply(weighted_rating,args=(C,m), axis=1)\n",
    "    recommendations = recommendations.sort_values('weighted_rating', ascending=False)\n",
    "#     print (recommendations.head(2))\n",
    "    recommendations=recommendations[['title', 'vote_average']]\n",
    "    recommendations=recommendations.head(10)\n",
    "    return recommendations\n",
    "\n",
    "\n",
    "def weighted_rating(x,C,m):\n",
    "    v = x['vote_count']\n",
    "    R = x['vote_average']\n",
    "    return (v/(v+m) * R) + (m/(m+v) * C)"
   ]
  },
  {
   "cell_type": "code",
   "execution_count": 7,
   "metadata": {
    "collapsed": true
   },
   "outputs": [],
   "source": [
    "#inputs to below function: input_user_id,df_rating,df_events,n= 6"
   ]
  },
  {
   "cell_type": "markdown",
   "metadata": {},
   "source": [
    "## RECOMMENDATION SYSTEM\n",
    "###### MAIN FUNCTION"
   ]
  },
  {
   "cell_type": "code",
   "execution_count": 16,
   "metadata": {
    "scrolled": true
   },
   "outputs": [
    {
     "data": {
      "text/plain": [
       "[239, 213, 276, 445, 414, 260, 480, 336, 157, 326]"
      ]
     },
     "execution_count": 16,
     "metadata": {},
     "output_type": "execute_result"
    }
   ],
   "source": [
    "input_user_id=414\n",
    "\n",
    "#get data\n",
    "data,df_events,df_rating,df_old_events,df_new_events=get_prep_data(input_user_id)\n",
    "\n",
    "\n",
    "min_active=8 #other 8 users recommending new events \n",
    "rec=100  #input user top 100 history \n",
    "recommentation_number = 10 # num of recommendations to output\n",
    "\n",
    "#main function\n",
    "def system(input_user_id,df_new_events, df_old_events,df_rating,min_active_users=min_active,recent=rec , rec_num = recommentation_number):\n",
    "    \n",
    "    \n",
    "    userRated = df_rating.loc[df_rating['userId']==input_user_id]\n",
    "    # new user\n",
    "    if len(userRated) < 20:\n",
    "        if len(df_new_events)<=rec_num:\n",
    "            rec_num = len(df_new_events) -1 \n",
    "        li = random.sample(range(0, len(df_new_events)-1), rec_num)\n",
    "        eid =np.array(list(df_new_events['eventId']))\n",
    "        \n",
    "        #return random events from new events\n",
    "        return list(eid[li])\n",
    "        \n",
    "    app_active_users = []\n",
    "    \n",
    "    for n_e in range(len(df_new_events)):\n",
    "        if df_new_events.iloc[n_e]['eventId'] in df_rating['eventId']:\n",
    "            app_active_users.extend( list(df_rating[df_rating['eventId'] == df_new_events.iloc[n_e]['eventId'] ]['userId'])  )\n",
    "    app_active_users=np.unique(np.array(app_active_users))\n",
    "    \n",
    "    \n",
    "    #Post cold start        \n",
    "    similar_users_id=[]\n",
    "    if len(app_active_users)> min_active_users:\n",
    "        app_active_users=np.append(app_active_users,input_user_id)\n",
    "\n",
    "        df_subset_ratings = df_rating[df_rating.userId.isin(app_active_users)]\n",
    "\n",
    "        similar_users_id = get_similar_users(input_user_id,df_subset_ratings, df_old_events)\n",
    "        similar_users_id.append(input_user_id)\n",
    "        \n",
    "        #get older user data.\n",
    "        df_user_rating = df_rating[df_rating['userId']==input_user_id]\n",
    "\n",
    "        recentRatings=df_user_rating.sort_values('timestamp')['eventId'].unique()[:recent]\n",
    "        df_ratings_old=df_rating.loc[df_rating['eventId'].isin(recentRatings)]\n",
    "\n",
    "        #similar users\n",
    "        df_ratings_old=df_ratings_old.loc[df_ratings_old['userId'].isin(similar_users_id)]\n",
    "        df_ratings_new=df_rating.loc[df_rating['eventId'].isin(list(df_new_events['eventId']))]\n",
    "\n",
    "        #get Recommended Events...\n",
    "        df_ratings_new=df_ratings_new.loc[df_ratings_new['userId'].isin(similar_users_id)]\n",
    "        df_ratings_new\n",
    "        \n",
    "        df_all=df_ratings_new.append(df_ratings_old,ignore_index=True)\n",
    "        df_pivot=df_all.pivot(index='userId',columns='eventId',values='rating').fillna(0)\n",
    "        df_pivot\n",
    "\n",
    "        R = df_pivot.to_numpy()\n",
    "        mean_ =(np.mean(R, axis = 1)).reshape(-1, 1)\n",
    "\n",
    "        U, sigma, E = svds(R - mean_, k = 5)\n",
    "        sigma = np.diag(sigma)\n",
    "\n",
    "        dot_prod =np.dot(np.dot(U, sigma),E)\n",
    "        ratings_pred = dot_prod  + mean_\n",
    "\n",
    "        preds_matrix = pd.DataFrame(ratings_pred, columns = df_pivot.columns,index=df_pivot.index)\n",
    "\n",
    "        # return predictions\n",
    "        preds_matrix = preds_matrix[list(df_ratings_new['eventId'])]\n",
    "        print(preds_matrix)\n",
    "\n",
    "        # user_predictions = preds_matrix.loc[userID]\n",
    "        events_pred=pd.unique(preds_matrix.loc[input_user_id].sort_values(ascending=False).index.to_list())[:rec_num]\n",
    "        print(events_pred)\n",
    "\n",
    "        return events_pred\n",
    "    \n",
    "    else:\n",
    "        #Check inputs again to be sure they contain the user\n",
    "        userRated=df_rating.loc[df_rating['userId']==input_user_id]\n",
    "        df_old_events=df_old_events.loc[df_old_events['eventId'].isin(list(userRated['eventId']))]\n",
    "        \n",
    "        #new(without user rating) + old events(with user ratings)\n",
    "        result=df_old_events.append(df_new_events,ignore_index=True) #get old to new.\n",
    "\n",
    "        description = result['Description'] # Description of all\n",
    "        tf = TfidfVectorizer(analyzer='word',ngram_range=(1, 3),min_df=0, stop_words='english')\n",
    "        tfidf = tf.fit_transform(description)\n",
    "\n",
    "        cosine_similarity = linear_kernel(tfidf, tfidf)\n",
    "\n",
    "        df_cosine_sim=pd.DataFrame(data=cosine_similarity,columns=result['eventId'],index=result['eventId'])\n",
    "\n",
    "        # old ratings -> recent=100 by default and min rating>=4\n",
    "        \n",
    "        min_rating=3\n",
    "        \n",
    "        recent_events=df_old_events.merge(df_rating,on='eventId')\n",
    "        recent_events=recent_events.loc[recent_events['rating']>=min_rating].sort_values(by='timestamp',ascending=False)['eventId'][:recent]\n",
    "        \n",
    "        #get df slice with predicted values\n",
    "        pred=df_cosine_sim.loc[df_cosine_sim.index.isin(recent_events),list(df_new_events['eventId'])]\n",
    "        \n",
    "        #get top 10 predictions based on max! 0th index=>Most recommended =>9th index=>10th place on recommendation\n",
    "        predictions=pred.max().sort_values(ascending=False).index[:rec_num].to_list()\n",
    "#         print(predictions)\n",
    "        \n",
    "        return predictions\n",
    "input_user_id= convertToNumber(\"6c598638ade072cf\")\n",
    "\n"
   ]
  },
  {
   "cell_type": "code",
   "execution_count": 17,
   "metadata": {},
   "outputs": [
    {
     "name": "stderr",
     "output_type": "stream",
     "text": [
      " * Running on http://0.0.0.0:8000/ (Press CTRL+C to quit)\n"
     ]
    }
   ],
   "source": [
    "#!flask/bin/python\n",
    "from flask import request\n",
    "from flask import Flask\n",
    "\n",
    "app = Flask(__name__)\n",
    "\n",
    "@app.route('/get_recommendations', methods=['POST'])\n",
    "def create_task():\n",
    "    system(input_user_id, data,df_events,df_rating,df_old_events,df_new_events)\n",
    "    if not request.json or not 'id' in request.json:\n",
    "        abort(400)\n",
    "    recommended_events = system(input_user_id,df_new_events, df_old_events,df_rating)\n",
    "    return jsonify({'event':recommended_events})\n",
    "\n",
    "  \n",
    "@app.route('/get_recommendations')\n",
    "def index():\n",
    "    return \"Recommended Events Get Call!\"\n",
    "\n",
    "if __name__ == '__main__':\n",
    "    app.run(host=\"0.0.0.0\", port=8000)"
   ]
  },
  {
   "cell_type": "code",
   "execution_count": null,
   "metadata": {
    "collapsed": true
   },
   "outputs": [],
   "source": []
  }
 ],
 "metadata": {
  "kernelspec": {
   "display_name": "Python 3",
   "language": "python",
   "name": "python3"
  },
  "language_info": {
   "codemirror_mode": {
    "name": "ipython",
    "version": 3
   },
   "file_extension": ".py",
   "mimetype": "text/x-python",
   "name": "python",
   "nbconvert_exporter": "python",
   "pygments_lexer": "ipython3",
   "version": "3.6.2"
  }
 },
 "nbformat": 4,
 "nbformat_minor": 4
}
